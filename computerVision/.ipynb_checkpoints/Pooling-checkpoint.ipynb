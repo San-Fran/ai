{
 "cells": [
  {
   "cell_type": "code",
   "execution_count": null,
   "metadata": {
    "id": "HAkYPrkUCMMA"
   },
   "outputs": [],
   "source": [
    "import numpy as np                   # Efficient math library\n",
    "import matplotlib.pyplot as plt      # Plotting library\n",
    "import random                        # Generating random numbers library\n",
    "\n",
    "from keras.datasets import mnist     # MNIST dataset\n",
    "from keras.datasets import cifar10\n",
    "\n",
    "import statistics\n",
    "import math"
   ]
  },
  {
   "cell_type": "code",
   "execution_count": null,
   "metadata": {
    "colab": {
     "base_uri": "https://localhost:8080/"
    },
    "id": "8QRsnhJPCPBf",
    "outputId": "977586ab-851e-49d1-cfdf-f7e9dc80fc9a"
   },
   "outputs": [
    {
     "name": "stdout",
     "output_type": "stream",
     "text": [
      "Downloading data from https://storage.googleapis.com/tensorflow/tf-keras-datasets/mnist.npz\n",
      "11490434/11490434 [==============================] - 0s 0us/step\n"
     ]
    }
   ],
   "source": [
    "(X_train, y_train), (X_test, y_test) = mnist.load_data()"
   ]
  },
  {
   "cell_type": "code",
   "execution_count": null,
   "metadata": {
    "colab": {
     "base_uri": "https://localhost:8080/",
     "height": 283
    },
    "id": "7yqkUH7iCPGO",
    "outputId": "144fd697-e8ce-490c-82ea-3824d38fcd97"
   },
   "outputs": [
    {
     "data": {
      "image/png": "[encoded data removed]",
      "text/plain": [
       "<Figure size 432x288 with 1 Axes>"
      ]
     },
     "metadata": {
      "needs_background": "light"
     },
     "output_type": "display_data"
    },
    {
     "name": "stdout",
     "output_type": "stream",
     "text": [
      "(28, 28)\n"
     ]
    }
   ],
   "source": [
    "# get the first image\n",
    "image = X_train[0]\n",
    "\n",
    "# show image\n",
    "plt.imshow(image, cmap='gray')\n",
    "plt.show()\n",
    "print(image.shape)"
   ]
  },
  {
   "cell_type": "code",
   "execution_count": null,
   "metadata": {
    "id": "Bo-zdOxRCPJ5"
   },
   "outputs": [],
   "source": [
    "from numpy.ma.core import mean\n",
    "def meanPooling(kernelLength,image):\n",
    "  picture = []\n",
    "  for i, row in enumerate(image):\n",
    "    if(i>len(image)-kernelLength):\n",
    "      break\n",
    "    temp = []\n",
    "    for j, pixel in enumerate(row):\n",
    "      if(j>len(row)-kernelLength):\n",
    "        break\n",
    "\n",
    "      val = statistics.mean([image[i][j], image[i][j+1], image[i][j+2],\n",
    "                     image[i+1][j], image[i+1][j+1], image[i+1][j+2],\n",
    "                     image[i+2][j], image[i+2][j+1], image[i+2][j+2]])\n",
    "      temp.append(val)\n",
    "    picture.append(temp)\n",
    "\n",
    "  numpyPicture = np.array(picture)\n",
    "  print(\"Created a new picture with the dimensions: \")\n",
    "  print(numpyPicture.shape)\n",
    "  return numpyPicture"
   ]
  },
  {
   "cell_type": "code",
   "execution_count": null,
   "metadata": {
    "id": "Unq2ViilFjed"
   },
   "outputs": [],
   "source": [
    "def medianPooling(kernelLength,image):\n",
    "  picture = []\n",
    "  for i, row in enumerate(image):\n",
    "    if(i>len(image)-kernelLength):\n",
    "      break\n",
    "    temp = []\n",
    "    for j, pixel in enumerate(row):\n",
    "      if(j>len(row)-kernelLength):\n",
    "        break\n",
    "\n",
    "      val = statistics.median([image[i][j], image[i][j+1], image[i][j+2],\n",
    "                     image[i+1][j], image[i+1][j+1], image[i+1][j+2],\n",
    "                     image[i+2][j], image[i+2][j+1], image[i+2][j+2]])\n",
    "      temp.append(val)\n",
    "    picture.append(temp)\n",
    "\n",
    "  numpyPicture = np.array(picture)\n",
    "  print(\"Created a new picture with the dimensions: \")\n",
    "  print(numpyPicture.shape)\n",
    "  return numpyPicture"
   ]
  },
  {
   "cell_type": "code",
   "execution_count": null,
   "metadata": {
    "id": "1fSZsGJpElkQ"
   },
   "outputs": [],
   "source": [
    "def minPooling(kernelLength,image):\n",
    "  picture = []\n",
    "  for i, row in enumerate(image):\n",
    "    if(i>len(image)-kernelLength):\n",
    "      break\n",
    "    temp = []\n",
    "    for j, pixel in enumerate(row):\n",
    "      if(j>len(row)-kernelLength):\n",
    "        break\n",
    "\n",
    "      val = min(image[i][j], image[i][j+1], image[i][j+2],\n",
    "                     image[i+1][j], image[i+1][j+1], image[i+1][j+2],\n",
    "                     image[i+2][j], image[i+2][j+1], image[i+2][j+2])\n",
    "      temp.append(val)\n",
    "    picture.append(temp)\n",
    "\n",
    "  numpyPicture = np.array(picture)\n",
    "  print(\"Created a new picture with the dimensions: \")\n",
    "  print(numpyPicture.shape)\n",
    "  return numpyPicture"
   ]
  },
  {
   "cell_type": "code",
   "execution_count": null,
   "metadata": {
    "colab": {
     "base_uri": "https://localhost:8080/",
     "height": 347
    },
    "id": "TLjTr3AjCPLS",
    "outputId": "b3c6b1c0-94f3-40b5-937a-6b435dfbe4cc"
   },
   "outputs": [
    {
     "name": "stdout",
     "output_type": "stream",
     "text": [
      "Created a new picture with the dimensions: \n",
      "(26, 26)\n"
     ]
    },
    {
     "data": {
      "image/png": "[encoded data removed]",
      "text/plain": [
       "<Figure size 720x720 with 2 Axes>"
      ]
     },
     "metadata": {
      "needs_background": "light"
     },
     "output_type": "display_data"
    }
   ],
   "source": [
    "# change the number that is in paranthesis between 1 - 10 to see what happens\n",
    "pic = maxPooling(3, image)\n",
    "\n",
    "pic\n",
    "\n",
    "rows = 2\n",
    "columns = 2\n",
    "fig = plt.figure(figsize=(10, 10))\n",
    "fig.add_subplot(rows, columns, 1)\n",
    "plt.imshow(image, cmap='gray')\n",
    "plt.title(\"Before\")\n",
    "\n",
    "fig.add_subplot(rows, columns, 2)\n",
    "plt.imshow(pic, cmap='gray')\n",
    "plt.title(\"After\")\n",
    "plt.show()"
   ]
  },
  {
   "cell_type": "code",
   "execution_count": null,
   "metadata": {
    "colab": {
     "base_uri": "https://localhost:8080/",
     "height": 347
    },
    "id": "EVnvAtQOEtgJ",
    "outputId": "5459e5dc-b5a1-42b5-de76-e3de7f6ac656"
   },
   "outputs": [
    {
     "name": "stdout",
     "output_type": "stream",
     "text": [
      "Created a new picture with the dimensions: \n",
      "(26, 26)\n"
     ]
    },
    {
     "data": {
      "image/png": "[encoded data removed]",
      "text/plain": [
       "<Figure size 720x720 with 2 Axes>"
      ]
     },
     "metadata": {
      "needs_background": "light"
     },
     "output_type": "display_data"
    }
   ],
   "source": [
    "# change the number that is in paranthesis between 1 - 10 to see what happens\n",
    "pic = minPooling(3, image)\n",
    "\n",
    "pic\n",
    "\n",
    "rows = 2\n",
    "columns = 2\n",
    "fig = plt.figure(figsize=(10, 10))\n",
    "fig.add_subplot(rows, columns, 1)\n",
    "plt.imshow(image, cmap='gray')\n",
    "plt.title(\"Before\")\n",
    "\n",
    "fig.add_subplot(rows, columns, 2)\n",
    "plt.imshow(pic, cmap='gray')\n",
    "plt.title(\"After\")\n",
    "plt.show()"
   ]
  },
  {
   "cell_type": "code",
   "execution_count": null,
   "metadata": {
    "colab": {
     "base_uri": "https://localhost:8080/",
     "height": 347
    },
    "id": "4AmY8EbfCPNp",
    "outputId": "3b93edb2-ee9f-4160-da59-58720d0449a5"
   },
   "outputs": [
    {
     "name": "stdout",
     "output_type": "stream",
     "text": [
      "Created a new picture with the dimensions: \n",
      "(26, 26)\n"
     ]
    },
    {
     "data": {
      "image/png": "[encoded data removed]",
      "text/plain": [
       "<Figure size 720x720 with 2 Axes>"
      ]
     },
     "metadata": {
      "needs_background": "light"
     },
     "output_type": "display_data"
    }
   ],
   "source": [
    "# change the number that is in paranthesis between 1 - 10 to see what happens\n",
    "pic = meanPooling(3, image)\n",
    "\n",
    "pic\n",
    "\n",
    "rows = 2\n",
    "columns = 2\n",
    "fig = plt.figure(figsize=(10, 10))\n",
    "fig.add_subplot(rows, columns, 1)\n",
    "plt.imshow(image, cmap='gray')\n",
    "plt.title(\"Before\")\n",
    "\n",
    "fig.add_subplot(rows, columns, 2)\n",
    "plt.imshow(pic, cmap='gray')\n",
    "plt.title(\"After\")\n",
    "plt.show()"
   ]
  },
  {
   "cell_type": "code",
   "execution_count": null,
   "metadata": {
    "colab": {
     "base_uri": "https://localhost:8080/",
     "height": 347
    },
    "id": "ZUE0pkUhCPQI",
    "outputId": "3255b2cd-2793-487f-e4e2-8d6218e4d98c"
   },
   "outputs": [
    {
     "name": "stdout",
     "output_type": "stream",
     "text": [
      "Created a new picture with the dimensions: \n",
      "(26, 26)\n"
     ]
    },
    {
     "data": {
      "image/png": "[encoded data removed]",
      "text/plain": [
       "<Figure size 720x720 with 2 Axes>"
      ]
     },
     "metadata": {
      "needs_background": "light"
     },
     "output_type": "display_data"
    }
   ],
   "source": [
    "# change the number that is in paranthesis between 1 - 10 to see what happens\n",
    "pic = medianPooling(3, image)\n",
    "\n",
    "pic\n",
    "\n",
    "rows = 2\n",
    "columns = 2\n",
    "fig = plt.figure(figsize=(10, 10))\n",
    "fig.add_subplot(rows, columns, 1)\n",
    "plt.imshow(image, cmap='gray')\n",
    "plt.title(\"Before\")\n",
    "\n",
    "fig.add_subplot(rows, columns, 2)\n",
    "plt.imshow(pic, cmap='gray')\n",
    "plt.title(\"After\")\n",
    "plt.show()"
   ]
  },
  {
   "cell_type": "markdown",
   "metadata": {
    "id": "47tuB7KRGlqS"
   },
   "source": [
    "https://grand-challenge.org/challenges/\n"
   ]
  }
 ],
 "metadata": {
  "colab": {
   "provenance": []
  },
  "kernelspec": {
   "display_name": "Python 3",
   "name": "python3"
  },
  "language_info": {
   "name": "python"
  }
 },
 "nbformat": 4,
 "nbformat_minor": 0
}
