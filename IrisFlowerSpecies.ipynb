{
 "cells": [
  {
   "cell_type": "code",
   "execution_count": null,
   "metadata": {
    "colab": {
     "base_uri": "https://localhost:8080/",
     "height": 139
    },
    "id": "rEGle6hUsShZ",
    "outputId": "bce6f100-418a-4c15-c400-d074b9b0c78a"
   },
   "outputs": [
    {
     "name": "stdout",
     "output_type": "stream",
     "text": [
      "Go to this URL in a browser: https://accounts.google.com/o/oauth2/auth?client_id=947318989803-6bn6qk8qdgf4n4g3pfee6491hc0brc4i.apps.googleusercontent.com&redirect_uri=urn%3aietf%3awg%3aoauth%3a2.0%3aoob&response_type=code&scope=email%20https%3a%2f%2fwww.googleapis.com%2fauth%2fdocs.test%20https%3a%2f%2fwww.googleapis.com%2fauth%2fdrive%20https%3a%2f%2fwww.googleapis.com%2fauth%2fdrive.photos.readonly%20https%3a%2f%2fwww.googleapis.com%2fauth%2fpeopleapi.readonly\n",
      "\n",
      "Enter your authorization code:\n",
      "··········\n",
      "Mounted at /content/drive\n"
     ]
    },
    {
     "data": {
      "text/plain": [
       "''"
      ]
     },
     "execution_count": 1,
     "metadata": {
      "tags": []
     },
     "output_type": "execute_result"
    }
   ],
   "source": [
    "import seaborn as sns\n",
    "import os\n",
    "import pandas as pd\n",
    "import matplotlib.pyplot as plt\n",
    "import csv\n",
    "%matplotlib inline\n",
    "import glob\n",
    "from IPython.display import Image\n",
    "from collections.abc import Sequence\n",
    "from sklearn import preprocessing\n",
    "import matplotlib.pyplot as plt\n",
    "import numpy as np\n",
    "import pandas as pd\n",
    "import shutil\n",
    "import os\n",
    "from sklearn.model_selection import train_test_split\n",
    "from sklearn import metrics\n",
    "import tensorflow as tf\n",
    "from tensorflow.keras.models import Sequential\n",
    "from tensorflow.keras.layers import Dense, Activation\n",
    "from tensorflow.keras.callbacks import EarlyStopping\n",
    "from tensorflow.keras.callbacks import ModelCheckpoint\n",
    "from sklearn import preprocessing\n",
    "from tensorflow.keras.layers import Dense, Embedding\n",
    "from tensorflow.keras.callbacks import EarlyStopping\n",
    "\n",
    "# Shared Input Layer\n",
    "from tensorflow.keras.utils import plot_model\n",
    "from tensorflow.keras.models import Model\n",
    "from tensorflow.keras.layers import Input\n",
    "from tensorflow.keras.layers import Dense\n",
    "from tensorflow.keras.layers import Flatten\n",
    "from tensorflow.keras.layers import Conv2D, MaxPooling2D, concatenate\n",
    "\n",
    "import seaborn as sns\n",
    "import os\n",
    "import pandas as pd\n",
    "import matplotlib.pyplot as plt\n",
    "\n",
    "import csv\n",
    "import numpy as np\n",
    "%matplotlib inline\n",
    "\n",
    "import cv2\n",
    "import glob\n",
    "from IPython.display import Image\n",
    "\n",
    "\n",
    "from google.colab import drive\n",
    "drive.mount('/content/drive')\n",
    "tf.test.gpu_device_name()"
   ]
  },
  {
   "cell_type": "code",
   "execution_count": null,
   "metadata": {
    "colab": {
     "base_uri": "https://localhost:8080/",
     "height": 204
    },
    "id": "UFFUuI7zsbVR",
    "outputId": "f62745d3-4aed-4d9d-de7b-af24ae67b562"
   },
   "outputs": [
    {
     "data": {
      "text/html": [
       "<div>\n",
       "<style scoped>\n",
       "    .dataframe tbody tr th:only-of-type {\n",
       "        vertical-align: middle;\n",
       "    }\n",
       "\n",
       "    .dataframe tbody tr th {\n",
       "        vertical-align: top;\n",
       "    }\n",
       "\n",
       "    .dataframe thead th {\n",
       "        text-align: right;\n",
       "    }\n",
       "</style>\n",
       "<table border=\"1\" class=\"dataframe\">\n",
       "  <thead>\n",
       "    <tr style=\"text-align: right;\">\n",
       "      <th></th>\n",
       "      <th>sepal_length</th>\n",
       "      <th>sepal_width</th>\n",
       "      <th>petal_length</th>\n",
       "      <th>petal_width</th>\n",
       "      <th>species</th>\n",
       "    </tr>\n",
       "  </thead>\n",
       "  <tbody>\n",
       "    <tr>\n",
       "      <th>0</th>\n",
       "      <td>5.1</td>\n",
       "      <td>3.5</td>\n",
       "      <td>1.4</td>\n",
       "      <td>0.2</td>\n",
       "      <td>Iris-setosa</td>\n",
       "    </tr>\n",
       "    <tr>\n",
       "      <th>1</th>\n",
       "      <td>4.9</td>\n",
       "      <td>3.0</td>\n",
       "      <td>1.4</td>\n",
       "      <td>0.2</td>\n",
       "      <td>Iris-setosa</td>\n",
       "    </tr>\n",
       "    <tr>\n",
       "      <th>2</th>\n",
       "      <td>4.7</td>\n",
       "      <td>3.2</td>\n",
       "      <td>1.3</td>\n",
       "      <td>0.2</td>\n",
       "      <td>Iris-setosa</td>\n",
       "    </tr>\n",
       "    <tr>\n",
       "      <th>3</th>\n",
       "      <td>4.6</td>\n",
       "      <td>3.1</td>\n",
       "      <td>1.5</td>\n",
       "      <td>0.2</td>\n",
       "      <td>Iris-setosa</td>\n",
       "    </tr>\n",
       "    <tr>\n",
       "      <th>4</th>\n",
       "      <td>5.0</td>\n",
       "      <td>3.6</td>\n",
       "      <td>1.4</td>\n",
       "      <td>0.2</td>\n",
       "      <td>Iris-setosa</td>\n",
       "    </tr>\n",
       "  </tbody>\n",
       "</table>\n",
       "</div>"
      ],
      "text/plain": [
       "   sepal_length  sepal_width  petal_length  petal_width      species\n",
       "0           5.1          3.5           1.4          0.2  Iris-setosa\n",
       "1           4.9          3.0           1.4          0.2  Iris-setosa\n",
       "2           4.7          3.2           1.3          0.2  Iris-setosa\n",
       "3           4.6          3.1           1.5          0.2  Iris-setosa\n",
       "4           5.0          3.6           1.4          0.2  Iris-setosa"
      ]
     },
     "execution_count": 114,
     "metadata": {
      "tags": []
     },
     "output_type": "execute_result"
    }
   ],
   "source": [
    "# Encode text values to dummy variables(i.e. [1,0,0],[0,1,0],[0,0,1] for red,green,blue)\n",
    "def encode_text_dummy(df, name):\n",
    "    dummies = pd.get_dummies(df[name])\n",
    "    for x in dummies.columns:\n",
    "        dummy_name = \"{}-{}\".format(name, x)\n",
    "        df[dummy_name] = dummies[x]\n",
    "    df.drop(name, axis=1, inplace=True)\n",
    "\n",
    "\n",
    "# Encode text values to indexes(i.e. [1],[2],[3] for red,green,blue).\n",
    "def encode_text_index(df, name):\n",
    "    le = preprocessing.LabelEncoder()\n",
    "    df[name] = le.fit_transform(df[name])\n",
    "    return le.classes_\n",
    "\n",
    "\n",
    "# Encode a numeric column as zscores\n",
    "def encode_numeric_zscore(df, name, mean=None, sd=None):\n",
    "    if mean is None:\n",
    "        mean = df[name].mean()\n",
    "\n",
    "    if sd is None:\n",
    "        sd = df[name].std()\n",
    "\n",
    "    df[name] = (df[name] - mean) / sd\n",
    "\n",
    "\n",
    "# Convert all missing values in the specified column to the median\n",
    "def missing_median(df, name):\n",
    "    med = df[name].median()\n",
    "    df[name] = df[name].fillna(med)\n",
    "\n",
    "\n",
    "# Convert all missing values in the specified column to the default\n",
    "def missing_default(df, name, default_value):\n",
    "    df[name] = df[name].fillna(default_value)\n",
    "\n",
    "\n",
    "# Nicely formatted time string\n",
    "def hms_string(sec_elapsed):\n",
    "    h = int(sec_elapsed / (60 * 60))\n",
    "    m = int((sec_elapsed % (60 * 60)) / 60)\n",
    "    s = sec_elapsed % 60\n",
    "    return \"{}:{:>02}:{:>05.2f}\".format(h, m, s)\n",
    "\n",
    "\n",
    "# Remove all rows where the specified column is +/- sd standard deviations\n",
    "def remove_outliers(df, name, sd):\n",
    "    drop_rows = df.index[(np.abs(df[name] - df[name].mean()) >= (sd * df[name].std()))]\n",
    "    df.drop(drop_rows, axis=0, inplace=True)\n",
    "\n",
    "\n",
    "# Encode a column to a range between normalized_low and normalized_high.\n",
    "def encode_numeric_range(df, name, normalized_low=-1, normalized_high=1,\n",
    "                         data_low=None, data_high=None):\n",
    "    if data_low is None:\n",
    "        data_low = min(df[name])\n",
    "        data_high = max(df[name])\n",
    "\n",
    "    df[name] = ((df[name] - data_low) / (data_high - data_low)) \\\n",
    "               * (normalized_high - normalized_low) + normalized_low\n",
    "\n",
    "# Convert a Pandas dataframe to the x,y inputs that TensorFlow needs\n",
    "def to_xy(df, target):\n",
    "    result = []\n",
    "    for x in df.columns:\n",
    "        if x != target:\n",
    "            result.append(x)\n",
    "    dummies = pd.get_dummies(df[target])\n",
    "    return df[result].values.astype(np.float32), dummies.values.astype(np.float32)\n",
    "\n",
    "\n",
    "import matplotlib.pyplot as plt\n",
    "from sklearn.metrics import confusion_matrix, classification_report\n",
    "from sklearn.metrics import roc_curve, auc\n",
    "\n",
    "def plot_confusion_matrix(cm, names, title='Confusion matrix', cmap=plt.cm.Blues):\n",
    "    plt.imshow(cm, interpolation='nearest', cmap=cmap)\n",
    "    plt.title(title)\n",
    "    plt.colorbar()\n",
    "    tick_marks = np.arange(len(names))\n",
    "    plt.xticks(tick_marks, names, rotation=45)\n",
    "    plt.yticks(tick_marks, names)\n",
    "    plt.tight_layout()\n",
    "    plt.ylabel('True label')\n",
    "    plt.xlabel('Predicted label')\n",
    "\n",
    "# Plot an ROC. pred - the predictions, y - the expected output.\n",
    "def plot_roc(pred,y):\n",
    "    fpr, tpr, thresholds = roc_curve(y, pred)\n",
    "    roc_auc = auc(fpr, tpr)\n",
    "\n",
    "    plt.figure()\n",
    "    plt.plot(fpr, tpr, label='ROC curve (area = %0.2f)' % roc_auc)\n",
    "    plt.plot([0, 1], [0, 1], 'k--')\n",
    "    plt.xlim([0.0, 1.0])\n",
    "    plt.ylim([0.0, 1.05])\n",
    "    plt.xlabel('False Positive Rate')\n",
    "    plt.ylabel('True Positive Rate')\n",
    "    plt.title('Receiver Operating Characteristic (ROC)')\n",
    "    plt.legend(loc=\"lower right\")\n",
    "    plt.show()\n",
    "\n",
    "path = \"./drive/\"\n",
    "\n",
    "filename = os.path.join(path,\"My Drive/IRIS.csv\")\n",
    "df = pd.read_csv(filename)\n",
    "# df = df.drop(columns=['Unnamed: 32', 'id'])\n",
    "\n",
    "df.head()"
   ]
  },
  {
   "cell_type": "code",
   "execution_count": null,
   "metadata": {
    "colab": {
     "base_uri": "https://localhost:8080/",
     "height": 544
    },
    "id": "XXe9oeYqzEkO",
    "outputId": "f02b3ccc-3130-46a0-f982-7e3efd0e1efd"
   },
   "outputs": [
    {
     "name": "stdout",
     "output_type": "stream",
     "text": [
      "    sepal_length  sepal_width  petal_length  petal_width          species\n",
      "40           5.0          3.5           1.3          0.3      Iris-setosa\n",
      "41           4.5          2.3           1.3          0.3      Iris-setosa\n",
      "42           4.4          3.2           1.3          0.2      Iris-setosa\n",
      "43           5.0          3.5           1.6          0.6      Iris-setosa\n",
      "44           5.1          3.8           1.9          0.4      Iris-setosa\n",
      "45           4.8          3.0           1.4          0.3      Iris-setosa\n",
      "46           5.1          3.8           1.6          0.2      Iris-setosa\n",
      "47           4.6          3.2           1.4          0.2      Iris-setosa\n",
      "48           5.3          3.7           1.5          0.2      Iris-setosa\n",
      "49           5.0          3.3           1.4          0.2      Iris-setosa\n",
      "50           7.0          3.2           4.7          1.4  Iris-versicolor\n",
      "51           6.4          3.2           4.5          1.5  Iris-versicolor\n",
      "52           6.9          3.1           4.9          1.5  Iris-versicolor\n",
      "53           5.5          2.3           4.0          1.3  Iris-versicolor\n",
      "54           6.5          2.8           4.6          1.5  Iris-versicolor\n",
      "55           5.7          2.8           4.5          1.3  Iris-versicolor\n",
      "56           6.3          3.3           4.7          1.6  Iris-versicolor\n",
      "57           4.9          2.4           3.3          1.0  Iris-versicolor\n",
      "58           6.6          2.9           4.6          1.3  Iris-versicolor\n",
      "59           5.2          2.7           3.9          1.4  Iris-versicolor\n",
      "60           5.0          2.0           3.5          1.0  Iris-versicolor\n",
      "61           5.9          3.0           4.2          1.5  Iris-versicolor\n",
      "62           6.0          2.2           4.0          1.0  Iris-versicolor\n",
      "63           6.1          2.9           4.7          1.4  Iris-versicolor\n",
      "64           5.6          2.9           3.6          1.3  Iris-versicolor\n",
      "65           6.7          3.1           4.4          1.4  Iris-versicolor\n",
      "66           5.6          3.0           4.5          1.5  Iris-versicolor\n",
      "67           5.8          2.7           4.1          1.0  Iris-versicolor\n",
      "68           6.2          2.2           4.5          1.5  Iris-versicolor\n",
      "69           5.6          2.5           3.9          1.1  Iris-versicolor\n"
     ]
    }
   ],
   "source": [
    "print(df[40:70])"
   ]
  },
  {
   "cell_type": "code",
   "execution_count": null,
   "metadata": {
    "id": "0WC5KtkftArs"
   },
   "outputs": [],
   "source": [
    "x,y = to_xy(df,\"species\")"
   ]
  },
  {
   "cell_type": "code",
   "execution_count": null,
   "metadata": {
    "colab": {
     "base_uri": "https://localhost:8080/",
     "height": 119
    },
    "id": "GugZ8iGstR8A",
    "outputId": "91f497d7-5b71-402f-ae56-c775fe13cdf2"
   },
   "outputs": [
    {
     "name": "stdout",
     "output_type": "stream",
     "text": [
      "[5.2 2.7 3.9 1.4]\n",
      "[0. 1. 0.]\n",
      "(105, 4)\n",
      "(105, 3)\n",
      "(45, 4)\n",
      "(45, 3)\n"
     ]
    }
   ],
   "source": [
    "x_train, x_test, y_train, y_test = train_test_split(x, y, test_size=0.30, random_state=30)\n",
    "print(x_train[0])\n",
    "print(y_train[0])\n",
    "print(x_train.shape)\n",
    "print(y_train.shape)\n",
    "print(x_test.shape)\n",
    "print(y_test.shape)"
   ]
  },
  {
   "cell_type": "code",
   "execution_count": null,
   "metadata": {
    "colab": {
     "base_uri": "https://localhost:8080/",
     "height": 289
    },
    "id": "w_-u8wPHtZHi",
    "outputId": "660ea34d-5f5c-4007-86e5-3a05e12308fc"
   },
   "outputs": [
    {
     "name": "stdout",
     "output_type": "stream",
     "text": [
      "Model: \"sequential_23\"\n",
      "_________________________________________________________________\n",
      "Layer (type)                 Output Shape              Param #   \n",
      "=================================================================\n",
      "dense_92 (Dense)             (None, 10)                50        \n",
      "_________________________________________________________________\n",
      "dense_93 (Dense)             (None, 8)                 88        \n",
      "_________________________________________________________________\n",
      "dense_94 (Dense)             (None, 5)                 45        \n",
      "_________________________________________________________________\n",
      "dense_95 (Dense)             (None, 3)                 18        \n",
      "=================================================================\n",
      "Total params: 201\n",
      "Trainable params: 201\n",
      "Non-trainable params: 0\n",
      "_________________________________________________________________\n"
     ]
    }
   ],
   "source": [
    "model = Sequential()\n",
    "model.add(Dense(10, input_dim=x_train.shape[1], activation='sigmoid'))\n",
    "model.add(Dense(8, activation='sigmoid'))\n",
    "model.add(Dense(5, activation='sigmoid'))\n",
    "model.add(Dense(y_train.shape[1],activation='softmax'))\n",
    "model.compile(loss='categorical_crossentropy', optimizer='adam')\n",
    "model.summary()"
   ]
  },
  {
   "cell_type": "code",
   "execution_count": null,
   "metadata": {
    "colab": {
     "base_uri": "https://localhost:8080/",
     "height": 1000
    },
    "id": "YV_l1G9ZtbWA",
    "outputId": "4069b9bb-35bd-449a-f392-50e9f697484c"
   },
   "outputs": [
    {
     "name": "stdout",
     "output_type": "stream",
     "text": [
      "Epoch 1/100\n",
      "21/21 - 0s - loss: 1.1845 - val_loss: 1.1111\n",
      "Epoch 2/100\n",
      "21/21 - 0s - loss: 1.1610 - val_loss: 1.1011\n",
      "Epoch 3/100\n",
      "21/21 - 0s - loss: 1.1431 - val_loss: 1.0958\n",
      "Epoch 4/100\n",
      "21/21 - 0s - loss: 1.1276 - val_loss: 1.0902\n",
      "Epoch 5/100\n",
      "21/21 - 0s - loss: 1.1170 - val_loss: 1.0888\n",
      "Epoch 6/100\n",
      "21/21 - 0s - loss: 1.1071 - val_loss: 1.0858\n",
      "Epoch 7/100\n",
      "21/21 - 0s - loss: 1.1003 - val_loss: 1.0850\n",
      "Epoch 8/100\n",
      "21/21 - 0s - loss: 1.0959 - val_loss: 1.0845\n",
      "Epoch 9/100\n",
      "21/21 - 0s - loss: 1.0892 - val_loss: 1.0841\n",
      "Epoch 10/100\n",
      "21/21 - 0s - loss: 1.0837 - val_loss: 1.0819\n",
      "Epoch 11/100\n",
      "21/21 - 0s - loss: 1.0799 - val_loss: 1.0807\n",
      "Epoch 12/100\n",
      "21/21 - 0s - loss: 1.0750 - val_loss: 1.0781\n",
      "Epoch 13/100\n",
      "21/21 - 0s - loss: 1.0711 - val_loss: 1.0756\n",
      "Epoch 14/100\n",
      "21/21 - 0s - loss: 1.0656 - val_loss: 1.0720\n",
      "Epoch 15/100\n",
      "21/21 - 0s - loss: 1.0605 - val_loss: 1.0687\n",
      "Epoch 16/100\n",
      "21/21 - 0s - loss: 1.0543 - val_loss: 1.0625\n",
      "Epoch 17/100\n",
      "21/21 - 0s - loss: 1.0471 - val_loss: 1.0584\n",
      "Epoch 18/100\n",
      "21/21 - 0s - loss: 1.0383 - val_loss: 1.0492\n",
      "Epoch 19/100\n",
      "21/21 - 0s - loss: 1.0295 - val_loss: 1.0394\n",
      "Epoch 20/100\n",
      "21/21 - 0s - loss: 1.0188 - val_loss: 1.0307\n",
      "Epoch 21/100\n",
      "21/21 - 0s - loss: 1.0069 - val_loss: 1.0185\n",
      "Epoch 22/100\n",
      "21/21 - 0s - loss: 0.9938 - val_loss: 1.0065\n",
      "Epoch 23/100\n",
      "21/21 - 0s - loss: 0.9805 - val_loss: 0.9912\n",
      "Epoch 24/100\n",
      "21/21 - 0s - loss: 0.9645 - val_loss: 0.9793\n",
      "Epoch 25/100\n",
      "21/21 - 0s - loss: 0.9469 - val_loss: 0.9621\n",
      "Epoch 26/100\n",
      "21/21 - 0s - loss: 0.9297 - val_loss: 0.9456\n",
      "Epoch 27/100\n",
      "21/21 - 0s - loss: 0.9119 - val_loss: 0.9279\n",
      "Epoch 28/100\n",
      "21/21 - 0s - loss: 0.8919 - val_loss: 0.9099\n",
      "Epoch 29/100\n",
      "21/21 - 0s - loss: 0.8731 - val_loss: 0.8893\n",
      "Epoch 30/100\n",
      "21/21 - 0s - loss: 0.8534 - val_loss: 0.8730\n",
      "Epoch 31/100\n",
      "21/21 - 0s - loss: 0.8330 - val_loss: 0.8555\n",
      "Epoch 32/100\n",
      "21/21 - 0s - loss: 0.8138 - val_loss: 0.8367\n",
      "Epoch 33/100\n",
      "21/21 - 0s - loss: 0.7951 - val_loss: 0.8209\n",
      "Epoch 34/100\n",
      "21/21 - 0s - loss: 0.7758 - val_loss: 0.8019\n",
      "Epoch 35/100\n",
      "21/21 - 0s - loss: 0.7606 - val_loss: 0.7893\n",
      "Epoch 36/100\n",
      "21/21 - 0s - loss: 0.7408 - val_loss: 0.7705\n",
      "Epoch 37/100\n",
      "21/21 - 0s - loss: 0.7248 - val_loss: 0.7543\n",
      "Epoch 38/100\n",
      "21/21 - 0s - loss: 0.7095 - val_loss: 0.7424\n",
      "Epoch 39/100\n",
      "21/21 - 0s - loss: 0.6942 - val_loss: 0.7272\n",
      "Epoch 40/100\n",
      "21/21 - 0s - loss: 0.6806 - val_loss: 0.7141\n",
      "Epoch 41/100\n",
      "21/21 - 0s - loss: 0.6673 - val_loss: 0.7050\n",
      "Epoch 42/100\n",
      "21/21 - 0s - loss: 0.6554 - val_loss: 0.6942\n",
      "Epoch 43/100\n",
      "21/21 - 0s - loss: 0.6441 - val_loss: 0.6843\n",
      "Epoch 44/100\n",
      "21/21 - 0s - loss: 0.6340 - val_loss: 0.6736\n",
      "Epoch 45/100\n",
      "21/21 - 0s - loss: 0.6236 - val_loss: 0.6650\n",
      "Epoch 46/100\n",
      "21/21 - 0s - loss: 0.6145 - val_loss: 0.6578\n",
      "Epoch 47/100\n",
      "21/21 - 0s - loss: 0.6064 - val_loss: 0.6520\n",
      "Epoch 48/100\n",
      "21/21 - 0s - loss: 0.5985 - val_loss: 0.6447\n",
      "Epoch 49/100\n",
      "21/21 - 0s - loss: 0.5908 - val_loss: 0.6363\n",
      "Epoch 50/100\n",
      "21/21 - 0s - loss: 0.5842 - val_loss: 0.6303\n",
      "Epoch 51/100\n",
      "21/21 - 0s - loss: 0.5773 - val_loss: 0.6246\n",
      "Epoch 52/100\n",
      "21/21 - 0s - loss: 0.5712 - val_loss: 0.6193\n",
      "Epoch 53/100\n",
      "21/21 - 0s - loss: 0.5656 - val_loss: 0.6140\n",
      "Epoch 54/100\n",
      "21/21 - 0s - loss: 0.5603 - val_loss: 0.6087\n",
      "Epoch 55/100\n",
      "21/21 - 0s - loss: 0.5555 - val_loss: 0.6057\n",
      "Epoch 56/100\n",
      "21/21 - 0s - loss: 0.5506 - val_loss: 0.6008\n",
      "Epoch 57/100\n",
      "21/21 - 0s - loss: 0.5461 - val_loss: 0.5968\n",
      "Epoch 58/100\n",
      "21/21 - 0s - loss: 0.5421 - val_loss: 0.5920\n",
      "Epoch 59/100\n",
      "21/21 - 0s - loss: 0.5379 - val_loss: 0.5885\n",
      "Epoch 60/100\n",
      "21/21 - 0s - loss: 0.5341 - val_loss: 0.5862\n",
      "Epoch 61/100\n",
      "21/21 - 0s - loss: 0.5308 - val_loss: 0.5823\n",
      "Epoch 62/100\n",
      "21/21 - 0s - loss: 0.5273 - val_loss: 0.5806\n",
      "Epoch 63/100\n",
      "21/21 - 0s - loss: 0.5239 - val_loss: 0.5764\n",
      "Epoch 64/100\n",
      "21/21 - 0s - loss: 0.5206 - val_loss: 0.5736\n",
      "Epoch 65/100\n",
      "21/21 - 0s - loss: 0.5180 - val_loss: 0.5717\n",
      "Epoch 66/100\n",
      "21/21 - 0s - loss: 0.5151 - val_loss: 0.5673\n",
      "Epoch 67/100\n",
      "21/21 - 0s - loss: 0.5123 - val_loss: 0.5669\n",
      "Epoch 68/100\n",
      "21/21 - 0s - loss: 0.5093 - val_loss: 0.5642\n",
      "Epoch 69/100\n",
      "21/21 - 0s - loss: 0.5068 - val_loss: 0.5591\n",
      "Epoch 70/100\n",
      "21/21 - 0s - loss: 0.5036 - val_loss: 0.5566\n",
      "Epoch 71/100\n",
      "21/21 - 0s - loss: 0.5007 - val_loss: 0.5558\n",
      "Epoch 72/100\n",
      "21/21 - 0s - loss: 0.4980 - val_loss: 0.5531\n",
      "Epoch 73/100\n",
      "21/21 - 0s - loss: 0.4957 - val_loss: 0.5516\n",
      "Epoch 74/100\n",
      "21/21 - 0s - loss: 0.4925 - val_loss: 0.5471\n",
      "Epoch 75/100\n",
      "21/21 - 0s - loss: 0.4900 - val_loss: 0.5469\n",
      "Epoch 76/100\n",
      "21/21 - 0s - loss: 0.4871 - val_loss: 0.5416\n",
      "Epoch 77/100\n",
      "21/21 - 0s - loss: 0.4839 - val_loss: 0.5377\n",
      "Epoch 78/100\n",
      "21/21 - 0s - loss: 0.4813 - val_loss: 0.5380\n",
      "Epoch 79/100\n",
      "21/21 - 0s - loss: 0.4778 - val_loss: 0.5319\n",
      "Epoch 80/100\n",
      "21/21 - 0s - loss: 0.4747 - val_loss: 0.5283\n",
      "Epoch 81/100\n",
      "21/21 - 0s - loss: 0.4716 - val_loss: 0.5282\n",
      "Epoch 82/100\n",
      "21/21 - 0s - loss: 0.4683 - val_loss: 0.5227\n",
      "Epoch 83/100\n",
      "21/21 - 0s - loss: 0.4646 - val_loss: 0.5184\n",
      "Epoch 84/100\n",
      "21/21 - 0s - loss: 0.4613 - val_loss: 0.5135\n",
      "Epoch 85/100\n",
      "21/21 - 0s - loss: 0.4575 - val_loss: 0.5122\n",
      "Epoch 86/100\n",
      "21/21 - 0s - loss: 0.4535 - val_loss: 0.5077\n",
      "Epoch 87/100\n",
      "21/21 - 0s - loss: 0.4496 - val_loss: 0.5022\n",
      "Epoch 88/100\n",
      "21/21 - 0s - loss: 0.4465 - val_loss: 0.4974\n",
      "Epoch 89/100\n",
      "21/21 - 0s - loss: 0.4416 - val_loss: 0.4958\n",
      "Epoch 90/100\n",
      "21/21 - 0s - loss: 0.4377 - val_loss: 0.4896\n",
      "Epoch 91/100\n",
      "21/21 - 0s - loss: 0.4325 - val_loss: 0.4858\n",
      "Epoch 92/100\n",
      "21/21 - 0s - loss: 0.4282 - val_loss: 0.4810\n",
      "Epoch 93/100\n",
      "21/21 - 0s - loss: 0.4242 - val_loss: 0.4722\n",
      "Epoch 94/100\n",
      "21/21 - 0s - loss: 0.4183 - val_loss: 0.4712\n",
      "Epoch 95/100\n",
      "21/21 - 0s - loss: 0.4133 - val_loss: 0.4636\n",
      "Epoch 96/100\n",
      "21/21 - 0s - loss: 0.4079 - val_loss: 0.4609\n",
      "Epoch 97/100\n",
      "21/21 - 0s - loss: 0.4032 - val_loss: 0.4502\n",
      "Epoch 98/100\n",
      "21/21 - 0s - loss: 0.3981 - val_loss: 0.4465\n",
      "Epoch 99/100\n",
      "21/21 - 0s - loss: 0.3911 - val_loss: 0.4459\n",
      "Epoch 100/100\n",
      "21/21 - 0s - loss: 0.3850 - val_loss: 0.4343\n"
     ]
    },
    {
     "data": {
      "text/plain": [
       "<tensorflow.python.keras.callbacks.History at 0x7f503385c828>"
      ]
     },
     "execution_count": 109,
     "metadata": {
      "tags": []
     },
     "output_type": "execute_result"
    }
   ],
   "source": [
    "monitor = EarlyStopping(monitor='val_loss', min_delta=1e-3, patience=25, verbose=1, mode='auto')\n",
    "model.fit(x_train,y_train,validation_data=(x_test,y_test), verbose=2,callbacks=[monitor], epochs=100, batch_size=5)"
   ]
  },
  {
   "cell_type": "code",
   "execution_count": null,
   "metadata": {
    "colab": {
     "base_uri": "https://localhost:8080/",
     "height": 34
    },
    "id": "eCxY9RuytzVU",
    "outputId": "37790939-0c80-4c3c-9b45-1090bbd46ac6"
   },
   "outputs": [
    {
     "name": "stdout",
     "output_type": "stream",
     "text": [
      "Final accuracy: 0.9777777777777777\n"
     ]
    }
   ],
   "source": [
    "pred = model.predict(x_test)\n",
    "# Measure accuracy\n",
    "pred = np.argmax(pred,axis=1)\n",
    "\n",
    "y_true = np.argmax(y_test,axis=1)\n",
    "\n",
    "score = metrics.accuracy_score(y_true, pred)\n",
    "print(\"Final accuracy: {}\".format(score))"
   ]
  },
  {
   "cell_type": "code",
   "execution_count": null,
   "metadata": {
    "colab": {
     "base_uri": "https://localhost:8080/",
     "height": 549
    },
    "id": "2DLASx0qvDcf",
    "outputId": "f5bfe936-3701-4752-f944-1825d4d7d9eb"
   },
   "outputs": [
    {
     "name": "stdout",
     "output_type": "stream",
     "text": [
      "[[13  0  0]\n",
      " [ 0 13  0]\n",
      " [ 0  1 18]]\n",
      "Ploting confusion matrix\n"
     ]
    },
    {
     "data": {
      "image/png": "[encoded data removed]",
      "text/plain": [
       "<Figure size 432x288 with 2 Axes>"
      ]
     },
     "metadata": {
      "tags": []
     },
     "output_type": "display_data"
    },
    {
     "name": "stdout",
     "output_type": "stream",
     "text": [
      "              precision    recall  f1-score   support\n",
      "\n",
      "           0       1.00      1.00      1.00        13\n",
      "           1       0.93      1.00      0.96        13\n",
      "           2       1.00      0.95      0.97        19\n",
      "\n",
      "    accuracy                           0.98        45\n",
      "   macro avg       0.98      0.98      0.98        45\n",
      "weighted avg       0.98      0.98      0.98        45\n",
      "\n"
     ]
    }
   ],
   "source": [
    "import numpy as np\n",
    "\n",
    "from sklearn import svm, datasets\n",
    "from sklearn.metrics import confusion_matrix, classification_report\n",
    "species = encode_text_index(df,\"species\")\n",
    "\n",
    "pred = model.predict(x_test)\n",
    "pred = np.argmax(pred,axis=1)\n",
    "y_true = np.argmax(y_test,axis=1)\n",
    "\n",
    "# Compute confusion matrix\n",
    "cm = confusion_matrix(y_true, pred)\n",
    "print(cm)\n",
    "\n",
    "print('Ploting confusion matrix')\n",
    "plt.figure()\n",
    "plot_confusion_matrix(cm, species)\n",
    "plt.show()\n",
    "\n",
    "\n",
    "print(classification_report(y_true, pred))"
   ]
  }
 ],
 "metadata": {
  "colab": {
   "provenance": []
  },
  "kernelspec": {
   "display_name": "Python 3",
   "language": "python",
   "name": "python3"
  },
  "language_info": {
   "codemirror_mode": {
    "name": "ipython",
    "version": 3
   },
   "file_extension": ".py",
   "mimetype": "text/x-python",
   "name": "python",
   "nbconvert_exporter": "python",
   "pygments_lexer": "ipython3",
   "version": "3.8.5"
  }
 },
 "nbformat": 4,
 "nbformat_minor": 1
}
